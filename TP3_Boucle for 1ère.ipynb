{
 "cells": [
  {
   "cell_type": "markdown",
   "metadata": {},
   "source": [
    "# TP 3 : La boucle for\n",
    "## 1- L'instruction range() - La boucle for\n",
    "L'instruction *range()* génère des entiers dans un intervalle.\n",
    "\n",
    "La boucle *for* permet de répéter un bloc d'instructions un certain nombre de fois fixé au départ.\n",
    "\n",
    "Exécuter les *cellules Code* suivantes (sélectionner la \"cellule Code\", puis cliquer sur *Exécuter* ou utiliser le raccourci clavier *CTRL + Entrée*) et observer.\n",
    "\n"
   ]
  },
  {
   "cell_type": "code",
   "execution_count": null,
   "metadata": {},
   "outputs": [],
   "source": [
    "for i in range(4):\n",
    "    print(i)"
   ]
  },
  {
   "cell_type": "code",
   "execution_count": null,
   "metadata": {},
   "outputs": [],
   "source": [
    "for i in range(1,4):\n",
    "    print(i)"
   ]
  },
  {
   "cell_type": "code",
   "execution_count": null,
   "metadata": {},
   "outputs": [],
   "source": [
    "for i in range(1,4,2):\n",
    "    print(i)"
   ]
  },
  {
   "cell_type": "code",
   "execution_count": null,
   "metadata": {},
   "outputs": [],
   "source": [
    "for i in range(4,0,-1):\n",
    "    print(i)"
   ]
  },
  {
   "cell_type": "markdown",
   "metadata": {},
   "source": [
    "* La fonction *range()* peut être utilisée avec 1 seul paramètre *fin* : *range(fin)*. *debut* est ègal à 0 par défaut, et *pas* à 1 par défaut.\n",
    "* La fonction *range()* peut être utilisée avec 2 paramètres *debut* et *fin* : *range(debut,fin)*. Le *pas* est égal à 1 par défaut.\n",
    "* La fonction *range()* peut être utilisée avec 3 paramètres *debut*, *fin* et *pas* : *range(debut,fin,pas)*. L'entier *debut* est compris, l'entier *fin* est **exclu**."
   ]
  },
  {
   "attachments": {
    "TP3_image%201.png": {
     "image/png": "[encoded data removed]"
    }
   },
   "cell_type": "markdown",
   "metadata": {},
   "source": [
    " <span style='color:green'>**Remarques**</span> :\n",
    " * Bien penser à terminer la ligne 1 du *for* avec un deux-points (\":\").\n",
    " * L'*indentation* (c'est-à-dire une tabulation qui n'est pas équivalente à \"trois touches espaces\") est obligatoire en ligne 2 pour signaler quelles sont les lignes d'instructions qui appartiennent au *corps* de la boucle *for*.\n",
    " * On dit que la boucle *for* est une **boucle bornée** car on sait à l'avance (ou on peut le savoir) combien de fois la ligne 2 va être exécutée.\n",
    "\n",
    "<span style='color:blue'>**Application 1 :**</span>\n",
    "\n",
    "Préciser dans chacune des *cellules Code* ci-après, comment on peut obtenir les affichages suivants à l'aide d'une boucle *for* :\n",
    "\n",
    "![TP3_image%201.png](attachment:TP3_image%201.png)\n"
   ]
  },
  {
   "cell_type": "markdown",
   "metadata": {},
   "source": [
    "Cas 1 :"
   ]
  },
  {
   "cell_type": "code",
   "execution_count": null,
   "metadata": {},
   "outputs": [],
   "source": []
  },
  {
   "cell_type": "markdown",
   "metadata": {},
   "source": [
    "Cas 2 :"
   ]
  },
  {
   "cell_type": "code",
   "execution_count": null,
   "metadata": {},
   "outputs": [],
   "source": []
  },
  {
   "cell_type": "markdown",
   "metadata": {},
   "source": [
    "Cas 3 :"
   ]
  },
  {
   "cell_type": "code",
   "execution_count": null,
   "metadata": {},
   "outputs": [],
   "source": []
  },
  {
   "cell_type": "markdown",
   "metadata": {},
   "source": [
    "<span style='color:blue'>**Application 2 :**</span>\n",
    "\n",
    "Exécuter le code suivant :"
   ]
  },
  {
   "cell_type": "code",
   "execution_count": null,
   "metadata": {
    "scrolled": true
   },
   "outputs": [],
   "source": [
    "S=2\n",
    "print(S)\n",
    "for i in range(4): # on répète 4 fois le bloc qui suit (i prend les valeurs entières de 0 à 3)\n",
    "    S=S+1          # on ajoute 1 à la valeur de la variable S et on stocke la valeur obtenue dans la variable S\n",
    "    print(S)"
   ]
  },
  {
   "cell_type": "markdown",
   "metadata": {},
   "source": [
    "Modifier le programme précédent afin qu'il affiche les nombres entiers de 10 à 20."
   ]
  },
  {
   "cell_type": "markdown",
   "metadata": {},
   "source": [
    "## 2- A vous de jouer !\n",
    "\n",
    "\n",
    "<span style='color:blue'>**Exercice 1 :**</span>\n",
    "\n",
    "Un village compte aujourd’hui 2 300 habitants. Le village étant en pleine croissance, sa population augmente chaque année de 150 habitants.  \n",
    "Compléter le programme suivant permettant d'afficher la population de ce village dans $n$ années."
   ]
  },
  {
   "cell_type": "code",
   "execution_count": null,
   "metadata": {},
   "outputs": [],
   "source": [
    "def NbHabitants(n):\n",
    "\tP=2300      # c'est la population de départ\n",
    "\tfor i in range(.........): # on veut calculer la population au bout d'1 année, de 2 années, de 3 années, ..., de n années.\n",
    "\t\tP=P+150 # On ajoute 150 à l'ancienne population stockée dans la variable P pour avoir la nouvelle population que l'on stocke dans la variable P \n",
    "\treturn P"
   ]
  },
  {
   "cell_type": "markdown",
   "metadata": {},
   "source": [
    "Tester ce programme pour déterminer la population du village dans 100 ans."
   ]
  },
  {
   "cell_type": "code",
   "execution_count": null,
   "metadata": {},
   "outputs": [],
   "source": []
  },
  {
   "cell_type": "markdown",
   "metadata": {},
   "source": [
    "\n",
    "<span style='color:blue'>**Exercice 2 : réinvestissement** </span>\n",
    "\n",
    "Mme Langlois effectue un unique versement de 20 000 € sur un livret d'épargne.\n",
    "\n",
    "Le capital augmente chaque année de 1 %.\n",
    "\n",
    "1) Par combien le capital est-il multiplié chaque année ?"
   ]
  },
  {
   "cell_type": "markdown",
   "metadata": {},
   "source": [
    "2) Compléter les pointillés de la fonction Capital d'argument n ci-dessous afin d'obtenir le capital de Mme Langlois au bout de $n$ années."
   ]
  },
  {
   "cell_type": "code",
   "execution_count": null,
   "metadata": {},
   "outputs": [],
   "source": [
    "def Capital(n):\n",
    "  C=...\n",
    "  for i in range (.........):\n",
    "    C=..........\n",
    "  return ...."
   ]
  },
  {
   "cell_type": "markdown",
   "metadata": {},
   "source": [
    "Quel sera le capital de Mme Langlois dans 20 ans ?"
   ]
  },
  {
   "cell_type": "code",
   "execution_count": null,
   "metadata": {},
   "outputs": [],
   "source": []
  },
  {
   "cell_type": "markdown",
   "metadata": {},
   "source": [
    "<span style='color:blue'>**Exercice 3 :**</span>\n",
    "\n",
    "Soit $n$ un entier naturel non nul. On pose $S = 1 + 2 + ... + n$.\n",
    "\n",
    "1) Calculer la somme S lorsque :\n",
    "\n",
    "  a. $n = 3$"
   ]
  },
  {
   "cell_type": "markdown",
   "metadata": {},
   "source": [
    "b. $n = 5$"
   ]
  },
  {
   "cell_type": "markdown",
   "metadata": {},
   "source": [
    "2) Le script suivant doit afficher la somme S. Il contient une ou des erreurs. Les corriger."
   ]
  },
  {
   "cell_type": "code",
   "execution_count": null,
   "metadata": {},
   "outputs": [],
   "source": [
    "def Somme(n):\n",
    "    S=1\n",
    "    for i in range (1,n):\n",
    "        S=S+i\n",
    "    return S"
   ]
  },
  {
   "cell_type": "markdown",
   "metadata": {},
   "source": [
    "Contrôler la modification faite en calculant, grâce à ce script, la somme S lorsque $n$ = 5"
   ]
  },
  {
   "cell_type": "code",
   "execution_count": null,
   "metadata": {},
   "outputs": [],
   "source": []
  },
  {
   "cell_type": "markdown",
   "metadata": {},
   "source": [
    "**Pour les plus à l'aise :** On veut calculer la valeur de S = 1 + 2 + .... + 100.\n",
    "\n",
    "En écrivant les termes de la somme dans l'ordre inverse et en remarquant que 1 + 100 = 101, 2 + 99 = 101, \n",
    "3 + 98 = 101 etc...., justifier que 2S = 100×101 et en déduire la valeur de S."
   ]
  },
  {
   "cell_type": "markdown",
   "metadata": {},
   "source": [
    "***Histoire des maths :*** *On raconte qu'entre 7 et 10 ans, Karl Gauss (1 777 – 1 855), mathématicien allemand de génie, aurait trouvé une façon de calculer la somme des nombres entiers de 1 à 100 très rapidement, à la grande surprise de son professeur. Son instituteur, un certain Büttner, fut réellement impressionné par les capacités de son jeune élève et fit obtenir à Carl Gauss une bourse d’étude. Durant toute sa vie, Carl Friedrich Gauss (1777-1855) fera avancer les mathématiques à pas de géant. « Le Prince des mathématiciens », comme on le surnomme encore aujourd’hui.*"
   ]
  }
 ],
 "metadata": {
  "kernelspec": {
   "display_name": "Python 3",
   "language": "python",
   "name": "python3"
  },
  "language_info": {
   "codemirror_mode": {
    "name": "ipython",
    "version": 3
   },
   "file_extension": ".py",
   "mimetype": "text/x-python",
   "name": "python",
   "nbconvert_exporter": "python",
   "pygments_lexer": "ipython3",
   "version": "3.7.3"
  }
 },
 "nbformat": 4,
 "nbformat_minor": 4
}
